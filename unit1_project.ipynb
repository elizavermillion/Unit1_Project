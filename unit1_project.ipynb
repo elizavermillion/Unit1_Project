{
 "cells": [
  {
   "cell_type": "markdown",
   "metadata": {},
   "source": [
    "<img src=\"http://imgur.com/1ZcRyrc.png\" style=\"float: left; margin: 20px; height: 55px\">\n",
    "\n",
    "# Project 1: Python Coding Exercises\n",
    "\n",
    "_Authors:  Joseph Nelson (DC)_"
   ]
  },
  {
   "cell_type": "markdown",
   "metadata": {},
   "source": [
    "The following code challenges are drawn from common exercises used in technical interviews. This project is more about turning ideas into Python code than it is about developing algorithms, so we have provided \"pseudocode\" for the more challenging problems."
   ]
  },
  {
   "cell_type": "markdown",
   "metadata": {},
   "source": [
    "### Challenge 1: Largest Palindrome\n",
    "A palindromic number reads the same both ways. For example, 1234321 is a palindrome. The largest palindrome made from the product of two two-digit numbers is 9009 = 91 × 99. Find the largest palindrome made from the product of two three-digit numbers."
   ]
  },
  {
   "cell_type": "code",
   "execution_count": null,
   "metadata": {},
   "outputs": [],
   "source": [
    "#Initialize a variable result to 0.\n",
    "\n",
    "result = 0\n",
    "    \n",
    "#For each number A 100 through 999:\n",
    "#For each number B 100 through 999:\n",
    "#Multiply A and B.\n",
    "#Turn that product into a string (use str as a function).\n",
    "\n",
    "for numA in range(100,1000):\n",
    "    for numB in range(100,1000):\n",
    "        product = str(numA * numB)\n",
    "                  \n",
    "#Reverse the string (use my_string[::-1]).\n",
    "\n",
    "        reverse = product[::-1]\n",
    "\n",
    "#If the string and its reverse are the same and the product is greater than result, set result to that new value.\n",
    "\n",
    "        if product == reverse and int(product) > int(result):\n",
    "            result = product\n",
    "                \n",
    "print(result)"
   ]
  },
  {
   "cell_type": "markdown",
   "metadata": {},
   "source": [
    "### Challenge 2: Summation of Primes\n",
    "The sum of the primes below 10 is 2 + 3 + 5 + 7 = 17. Find the sum of all the primes below 2,000."
   ]
  },
  {
   "cell_type": "code",
   "execution_count": null,
   "metadata": {},
   "outputs": [],
   "source": [
    "#Initialize an empty list of primes.\n",
    "primes = []\n",
    "total = 0\n",
    "\n",
    "#For every number A from 2 to 2,000:\n",
    "#Set a variable is_prime to true.\n",
    "\n",
    "for numA in range(2,2001):\n",
    "    is_prime = True\n",
    "\n",
    "#For every number B in our list of primes:\n",
    "#If A divided by B gives no remainder, set is_prime to false.\n",
    "#Optional: Use the command break to end the loop over primes at this point.\n",
    "#If is_prime is still true, append A to our list of primes.\n",
    "\n",
    "    for numB in range(2,2001):\n",
    "        if numA % numB == 0:\n",
    "            is_prime = False\n",
    "            break\n",
    "        if is_prime == True and numA not in primes: \n",
    "                primes.append(numA)\n",
    "\n",
    "#Add up the primes.\n",
    "\n",
    "for i in primes:\n",
    "    total += i\n",
    "\n",
    "print(total)"
   ]
  },
  {
   "cell_type": "markdown",
   "metadata": {},
   "source": [
    "### Challenge 3: Multiples of 3 and 5\n",
    "If we list all of the natural numbers below 10 that are multiples of 3 or 5, we get 3, 5, 6, and 9. The sum of these multiples is 23. Find the sum of all the multiples of 3 or 5 below 1,000."
   ]
  },
  {
   "cell_type": "code",
   "execution_count": null,
   "metadata": {},
   "outputs": [],
   "source": [
    "#Initialize empty list\n",
    "mult_3or5 = []\n",
    "total = 0\n",
    "\n",
    "#Iterate thru range and append multples of 3 or 5 to list\n",
    "for num in range(3,1000):\n",
    "    if num % 3 == 0 or num %5 == 0:\n",
    "        mult_3or5.append(num)\n",
    "\n",
    "#Add up the multiples\n",
    "\n",
    "for i in mult_3or5:\n",
    "    total += i\n",
    "\n",
    "print(total)\n"
   ]
  },
  {
   "cell_type": "markdown",
   "metadata": {},
   "source": [
    "### Challenge 4: String Compressor\n",
    "Write a function to perform basic string compression using the counts of repeated characters. (This is called run-length encoding.) For example, the string \"aabcccccaaa\" would become a2b1c5a3. If the “compressed” string would not become smaller than the original string, your method should return the original string. You can assume the string has only uppercase and lowercase letters (a–z). Specify whether your solution is case sensitive or case insensitive and what you would need to change to make it the other."
   ]
  },
  {
   "cell_type": "code",
   "execution_count": null,
   "metadata": {},
   "outputs": [],
   "source": [
    "#Initialize an empty string to hold the compressed version of the input string\n",
    "#Initialize an empty string to hold the character we are currently tallying up\n",
    "#Initialize a counter variable to 1\n",
    "\n",
    "\n",
    "def compress(word):\n",
    "    comp_word = \"\"\n",
    "    cl = \"\"\n",
    "    counter = 0\n",
    "\n",
    "#For each letter in the input string:\n",
    "#If that letter matches the letter we are counting, increment the counter by 1\n",
    "\n",
    "#Append the last letter we were counting and its count to our compressed string\n",
    "#Return the compressed string if it's shorter than the original string; otherwise, return the original string.\n",
    "\n",
    "    for letter in word:\n",
    "        if letter == cl:\n",
    "            counter += 1\n",
    "\n",
    "#Add the letter we have been counting and its count to our compressed string\n",
    "#Update the letter we are counting\n",
    "#Reset the counter to 1\n",
    "\n",
    "        else:\n",
    "            if counter == 1:\n",
    "                comp_word += cl\n",
    "            if counter > 1:\n",
    "                comp_word += cl + str(counter)\n",
    "            cl = letter\n",
    "            counter = 1\n",
    "    comp_word += cl + str(counter)\n",
    "    \n",
    "    if len(comp_word) < len(word):\n",
    "        return comp_word\n",
    "    else:\n",
    "        return word\n",
    "\n",
    "compress('heeeeelllllllllllllllo')"
   ]
  },
  {
   "cell_type": "markdown",
   "metadata": {},
   "source": [
    "### Challenge 5: FizzBuzz\n",
    "Write a program that prints all of the numbers from 1 to 100. For multiples of 3, instead of the number, print \"Fizz;\" for multiples of 5, print \"Buzz.\" For numbers that are multiples of both 3 and 5, print \"FizzBuzz.\""
   ]
  },
  {
   "cell_type": "code",
   "execution_count": 56,
   "metadata": {},
   "outputs": [
    {
     "name": "stdout",
     "output_type": "stream",
     "text": [
      "[1, 2, 'Fizz', 4, 'Buzz', 'Fizz', 7, 8, 'Fizz', 'Buzz', 11, 'Fizz', 13, 14, 'FizzBuzz', 16, 17, 'Fizz', 19, 'Buzz', 'Fizz', 22, 23, 'Fizz', 'Buzz', 26, 'Fizz', 28, 29, 'FizzBuzz', 31, 32, 'Fizz', 34, 'Buzz', 'Fizz', 37, 38, 'Fizz', 'Buzz', 41, 'Fizz', 43, 44, 'FizzBuzz', 46, 47, 'Fizz', 49, 'Buzz', 'Fizz', 52, 53, 'Fizz', 'Buzz', 56, 'Fizz', 58, 59, 'FizzBuzz', 61, 62, 'Fizz', 64, 'Buzz', 'Fizz', 67, 68, 'Fizz', 'Buzz', 71, 'Fizz', 73, 74, 'FizzBuzz', 76, 77, 'Fizz', 79, 'Buzz', 'Fizz', 82, 83, 'Fizz', 'Buzz', 86, 'Fizz', 88, 89, 'FizzBuzz', 91, 92, 'Fizz', 94, 'Buzz', 'Fizz', 97, 98, 'Fizz', 'Buzz']\n"
     ]
    }
   ],
   "source": [
    "#Create an empty list\n",
    "FB_list = []\n",
    "\n",
    "#Generate a list of numbers using the range function and append values to new list \n",
    "#Where values are multples of 3 and 5, append \"Fizz\" and \"Buzz\", instead.  \n",
    "\n",
    "for num in range(1,101):\n",
    "    if num % 3 ==0 and num % 5 == 0:\n",
    "        FB_list.append(\"FizzBuzz\")\n",
    "    elif num % 3 == 0:\n",
    "        FB_list.append(\"Fizz\")\n",
    "    elif num %5 == 0:\n",
    "            FB_list.append(\"Buzz\")\n",
    "    else:\n",
    "        FB_list.append(num)\n",
    "        \n",
    "print (FB_list)\n"
   ]
  },
  {
   "cell_type": "code",
   "execution_count": null,
   "metadata": {},
   "outputs": [],
   "source": []
  },
  {
   "cell_type": "code",
   "execution_count": null,
   "metadata": {},
   "outputs": [],
   "source": []
  },
  {
   "cell_type": "code",
   "execution_count": null,
   "metadata": {},
   "outputs": [],
   "source": []
  }
 ],
 "metadata": {
  "anaconda-cloud": {},
  "kernelspec": {
   "display_name": "Python 3",
   "language": "python",
   "name": "python3"
  },
  "language_info": {
   "codemirror_mode": {
    "name": "ipython",
    "version": 3
   },
   "file_extension": ".py",
   "mimetype": "text/x-python",
   "name": "python",
   "nbconvert_exporter": "python",
   "pygments_lexer": "ipython3",
   "version": "3.8.8"
  }
 },
 "nbformat": 4,
 "nbformat_minor": 4
}
